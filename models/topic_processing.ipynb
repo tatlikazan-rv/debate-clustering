{
 "cells": [
  {
   "cell_type": "code",
   "execution_count": 1,
   "metadata": {
    "collapsed": true
   },
   "outputs": [
    {
     "name": "stderr",
     "output_type": "stream",
     "text": [
      "[nltk_data] Downloading package averaged_perceptron_tagger to\n",
      "[nltk_data]     C:\\Users\\Admin\\AppData\\Roaming\\nltk_data...\n",
      "[nltk_data]   Package averaged_perceptron_tagger is already up-to-\n",
      "[nltk_data]       date!\n",
      "[nltk_data] Downloading package stopwords to\n",
      "[nltk_data]     C:\\Users\\Admin\\AppData\\Roaming\\nltk_data...\n",
      "[nltk_data]   Package stopwords is already up-to-date!\n",
      "[nltk_data] Downloading package punkt to\n",
      "[nltk_data]     C:\\Users\\Admin\\AppData\\Roaming\\nltk_data...\n",
      "[nltk_data]   Package punkt is already up-to-date!\n",
      "[nltk_data] Downloading package wordnet to\n",
      "[nltk_data]     C:\\Users\\Admin\\AppData\\Roaming\\nltk_data...\n",
      "[nltk_data]   Package wordnet is already up-to-date!\n",
      "[nltk_data] Downloading package omw-1.4 to\n",
      "[nltk_data]     C:\\Users\\Admin\\AppData\\Roaming\\nltk_data...\n",
      "[nltk_data]   Package omw-1.4 is already up-to-date!\n",
      "[nltk_data] Downloading package averaged_perceptron_tagger to\n",
      "[nltk_data]     C:\\Users\\Admin\\AppData\\Roaming\\nltk_data...\n",
      "[nltk_data]   Package averaged_perceptron_tagger is already up-to-\n",
      "[nltk_data]       date!\n",
      "[nltk_data] Downloading package stopwords to\n",
      "[nltk_data]     C:\\Users\\Admin\\AppData\\Roaming\\nltk_data...\n",
      "[nltk_data]   Package stopwords is already up-to-date!\n",
      "[nltk_data] Downloading package punkt to\n",
      "[nltk_data]     C:\\Users\\Admin\\AppData\\Roaming\\nltk_data...\n",
      "[nltk_data]   Package punkt is already up-to-date!\n",
      "[nltk_data] Downloading package wordnet to\n",
      "[nltk_data]     C:\\Users\\Admin\\AppData\\Roaming\\nltk_data...\n",
      "[nltk_data]   Package wordnet is already up-to-date!\n",
      "[nltk_data] Downloading package omw-1.4 to\n",
      "[nltk_data]     C:\\Users\\Admin\\AppData\\Roaming\\nltk_data...\n",
      "[nltk_data]   Package omw-1.4 is already up-to-date!\n"
     ]
    },
    {
     "data": {
      "text/plain": "  Release Date    Season    Episode     Episode Title          Name  \\\n0   2011-04-17  Season 1  Episode 1  Winter is Coming  waymar royce   \n1   2011-04-17  Season 1  Episode 1  Winter is Coming          will   \n2   2011-04-17  Season 1  Episode 1  Winter is Coming  waymar royce   \n3   2011-04-17  Season 1  Episode 1  Winter is Coming          will   \n4   2011-04-17  Season 1  Episode 1  Winter is Coming         gared   \n\n                                            Sentence  \n0  What do you expect? They're savages. One lot s...  \n1  I've never seen wildlings do a thing like this...  \n2                             How close did you get?  \n3                            Close as any man would.  \n4                   We should head back to the wall.  ",
      "text/html": "<div>\n<style scoped>\n    .dataframe tbody tr th:only-of-type {\n        vertical-align: middle;\n    }\n\n    .dataframe tbody tr th {\n        vertical-align: top;\n    }\n\n    .dataframe thead th {\n        text-align: right;\n    }\n</style>\n<table border=\"1\" class=\"dataframe\">\n  <thead>\n    <tr style=\"text-align: right;\">\n      <th></th>\n      <th>Release Date</th>\n      <th>Season</th>\n      <th>Episode</th>\n      <th>Episode Title</th>\n      <th>Name</th>\n      <th>Sentence</th>\n    </tr>\n  </thead>\n  <tbody>\n    <tr>\n      <th>0</th>\n      <td>2011-04-17</td>\n      <td>Season 1</td>\n      <td>Episode 1</td>\n      <td>Winter is Coming</td>\n      <td>waymar royce</td>\n      <td>What do you expect? They're savages. One lot s...</td>\n    </tr>\n    <tr>\n      <th>1</th>\n      <td>2011-04-17</td>\n      <td>Season 1</td>\n      <td>Episode 1</td>\n      <td>Winter is Coming</td>\n      <td>will</td>\n      <td>I've never seen wildlings do a thing like this...</td>\n    </tr>\n    <tr>\n      <th>2</th>\n      <td>2011-04-17</td>\n      <td>Season 1</td>\n      <td>Episode 1</td>\n      <td>Winter is Coming</td>\n      <td>waymar royce</td>\n      <td>How close did you get?</td>\n    </tr>\n    <tr>\n      <th>3</th>\n      <td>2011-04-17</td>\n      <td>Season 1</td>\n      <td>Episode 1</td>\n      <td>Winter is Coming</td>\n      <td>will</td>\n      <td>Close as any man would.</td>\n    </tr>\n    <tr>\n      <th>4</th>\n      <td>2011-04-17</td>\n      <td>Season 1</td>\n      <td>Episode 1</td>\n      <td>Winter is Coming</td>\n      <td>gared</td>\n      <td>We should head back to the wall.</td>\n    </tr>\n  </tbody>\n</table>\n</div>"
     },
     "execution_count": 1,
     "metadata": {},
     "output_type": "execute_result"
    }
   ],
   "source": [
    "import bertopic\n",
    "import utils\n",
    "import pandas as pd\n",
    "from collections import Counter\n",
    "import topic_modeling_utils as tmu\n",
    "df = utils.get_df()\n",
    "df.head()"
   ]
  },
  {
   "cell_type": "code",
   "execution_count": 2,
   "metadata": {
    "pycharm": {
     "name": "#%%\n"
    }
   },
   "outputs": [],
   "source": [
    "model = bertopic.BERTopic.load(\"BERTopic_model.bin\")\n",
    "topics,probs = model.transform(df['Sentence'])"
   ]
  },
  {
   "cell_type": "code",
   "execution_count": 3,
   "outputs": [],
   "source": [
    "tmu.prep_df(topics, probs, df)"
   ],
   "metadata": {
    "collapsed": false,
    "pycharm": {
     "name": "#%%\n"
    }
   }
  },
  {
   "cell_type": "code",
   "execution_count": 4,
   "metadata": {
    "pycharm": {
     "name": "#%%\n"
    }
   },
   "outputs": [
    {
     "data": {
      "text/plain": "             Name       Topics  Topic Count\n0           aemon    [0, 4, 6]            3\n1      lysa arryn   [0, 6, 19]            3\n2           locke    [0, 3, 4]            3\n3           loras  [9, 11, 22]            3\n4         shireen  [0, 13, 18]            3\n..            ...          ...          ...\n352        martha         [20]            1\n353        martyn          [0]            1\n354         aeron         [23]            1\n355  masha heddle          [2]            1\n356  young rodrik         [11]            1\n\n[357 rows x 3 columns]",
      "text/html": "<div>\n<style scoped>\n    .dataframe tbody tr th:only-of-type {\n        vertical-align: middle;\n    }\n\n    .dataframe tbody tr th {\n        vertical-align: top;\n    }\n\n    .dataframe thead th {\n        text-align: right;\n    }\n</style>\n<table border=\"1\" class=\"dataframe\">\n  <thead>\n    <tr style=\"text-align: right;\">\n      <th></th>\n      <th>Name</th>\n      <th>Topics</th>\n      <th>Topic Count</th>\n    </tr>\n  </thead>\n  <tbody>\n    <tr>\n      <th>0</th>\n      <td>aemon</td>\n      <td>[0, 4, 6]</td>\n      <td>3</td>\n    </tr>\n    <tr>\n      <th>1</th>\n      <td>lysa arryn</td>\n      <td>[0, 6, 19]</td>\n      <td>3</td>\n    </tr>\n    <tr>\n      <th>2</th>\n      <td>locke</td>\n      <td>[0, 3, 4]</td>\n      <td>3</td>\n    </tr>\n    <tr>\n      <th>3</th>\n      <td>loras</td>\n      <td>[9, 11, 22]</td>\n      <td>3</td>\n    </tr>\n    <tr>\n      <th>4</th>\n      <td>shireen</td>\n      <td>[0, 13, 18]</td>\n      <td>3</td>\n    </tr>\n    <tr>\n      <th>...</th>\n      <td>...</td>\n      <td>...</td>\n      <td>...</td>\n    </tr>\n    <tr>\n      <th>352</th>\n      <td>martha</td>\n      <td>[20]</td>\n      <td>1</td>\n    </tr>\n    <tr>\n      <th>353</th>\n      <td>martyn</td>\n      <td>[0]</td>\n      <td>1</td>\n    </tr>\n    <tr>\n      <th>354</th>\n      <td>aeron</td>\n      <td>[23]</td>\n      <td>1</td>\n    </tr>\n    <tr>\n      <th>355</th>\n      <td>masha heddle</td>\n      <td>[2]</td>\n      <td>1</td>\n    </tr>\n    <tr>\n      <th>356</th>\n      <td>young rodrik</td>\n      <td>[11]</td>\n      <td>1</td>\n    </tr>\n  </tbody>\n</table>\n<p>357 rows × 3 columns</p>\n</div>"
     },
     "execution_count": 4,
     "metadata": {},
     "output_type": "execute_result"
    }
   ],
   "source": [
    "tmu.get_name_topic_df(df)"
   ]
  },
  {
   "cell_type": "code",
   "execution_count": 5,
   "outputs": [
    {
     "data": {
      "text/plain": "             Name    Season 1 Season 2 Season 3 Season 4    Season 5  \\\n0           aemon          []       []       []   [0, 4]   [0, 4, 6]   \n1           aeron          []       []       []       []          []   \n2             all          []       []       []      [0]          []   \n3       all three          []     [23]       []       []          []   \n4         alliser          []       []       []  [0, 18]  [4, 6, 18]   \n..            ...         ...      ...      ...      ...         ...   \n352    yohn royce          []       []       []       []          []   \n353         yoren  [0, 2, 22]       []       []       []          []   \n354     young man          []       []       []       []          []   \n355     young ned          []       []       []       []          []   \n356  young rodrik          []       []       []       []          []   \n\n     Season 6 Season 7 Season 8  \n0          []       []       []  \n1        [23]       []       []  \n2    [20, 23]     [20]       []  \n3          []       []       []  \n4          []       []       []  \n..        ...      ...      ...  \n352        []      [8]       []  \n353        []       []       []  \n354      [15]       []       []  \n355      [16]       []       []  \n356      [11]       []       []  \n\n[357 rows x 9 columns]",
      "text/html": "<div>\n<style scoped>\n    .dataframe tbody tr th:only-of-type {\n        vertical-align: middle;\n    }\n\n    .dataframe tbody tr th {\n        vertical-align: top;\n    }\n\n    .dataframe thead th {\n        text-align: right;\n    }\n</style>\n<table border=\"1\" class=\"dataframe\">\n  <thead>\n    <tr style=\"text-align: right;\">\n      <th></th>\n      <th>Name</th>\n      <th>Season 1</th>\n      <th>Season 2</th>\n      <th>Season 3</th>\n      <th>Season 4</th>\n      <th>Season 5</th>\n      <th>Season 6</th>\n      <th>Season 7</th>\n      <th>Season 8</th>\n    </tr>\n  </thead>\n  <tbody>\n    <tr>\n      <th>0</th>\n      <td>aemon</td>\n      <td>[]</td>\n      <td>[]</td>\n      <td>[]</td>\n      <td>[0, 4]</td>\n      <td>[0, 4, 6]</td>\n      <td>[]</td>\n      <td>[]</td>\n      <td>[]</td>\n    </tr>\n    <tr>\n      <th>1</th>\n      <td>aeron</td>\n      <td>[]</td>\n      <td>[]</td>\n      <td>[]</td>\n      <td>[]</td>\n      <td>[]</td>\n      <td>[23]</td>\n      <td>[]</td>\n      <td>[]</td>\n    </tr>\n    <tr>\n      <th>2</th>\n      <td>all</td>\n      <td>[]</td>\n      <td>[]</td>\n      <td>[]</td>\n      <td>[0]</td>\n      <td>[]</td>\n      <td>[20, 23]</td>\n      <td>[20]</td>\n      <td>[]</td>\n    </tr>\n    <tr>\n      <th>3</th>\n      <td>all three</td>\n      <td>[]</td>\n      <td>[23]</td>\n      <td>[]</td>\n      <td>[]</td>\n      <td>[]</td>\n      <td>[]</td>\n      <td>[]</td>\n      <td>[]</td>\n    </tr>\n    <tr>\n      <th>4</th>\n      <td>alliser</td>\n      <td>[]</td>\n      <td>[]</td>\n      <td>[]</td>\n      <td>[0, 18]</td>\n      <td>[4, 6, 18]</td>\n      <td>[]</td>\n      <td>[]</td>\n      <td>[]</td>\n    </tr>\n    <tr>\n      <th>...</th>\n      <td>...</td>\n      <td>...</td>\n      <td>...</td>\n      <td>...</td>\n      <td>...</td>\n      <td>...</td>\n      <td>...</td>\n      <td>...</td>\n      <td>...</td>\n    </tr>\n    <tr>\n      <th>352</th>\n      <td>yohn royce</td>\n      <td>[]</td>\n      <td>[]</td>\n      <td>[]</td>\n      <td>[]</td>\n      <td>[]</td>\n      <td>[]</td>\n      <td>[8]</td>\n      <td>[]</td>\n    </tr>\n    <tr>\n      <th>353</th>\n      <td>yoren</td>\n      <td>[0, 2, 22]</td>\n      <td>[]</td>\n      <td>[]</td>\n      <td>[]</td>\n      <td>[]</td>\n      <td>[]</td>\n      <td>[]</td>\n      <td>[]</td>\n    </tr>\n    <tr>\n      <th>354</th>\n      <td>young man</td>\n      <td>[]</td>\n      <td>[]</td>\n      <td>[]</td>\n      <td>[]</td>\n      <td>[]</td>\n      <td>[15]</td>\n      <td>[]</td>\n      <td>[]</td>\n    </tr>\n    <tr>\n      <th>355</th>\n      <td>young ned</td>\n      <td>[]</td>\n      <td>[]</td>\n      <td>[]</td>\n      <td>[]</td>\n      <td>[]</td>\n      <td>[16]</td>\n      <td>[]</td>\n      <td>[]</td>\n    </tr>\n    <tr>\n      <th>356</th>\n      <td>young rodrik</td>\n      <td>[]</td>\n      <td>[]</td>\n      <td>[]</td>\n      <td>[]</td>\n      <td>[]</td>\n      <td>[11]</td>\n      <td>[]</td>\n      <td>[]</td>\n    </tr>\n  </tbody>\n</table>\n<p>357 rows × 9 columns</p>\n</div>"
     },
     "execution_count": 5,
     "metadata": {},
     "output_type": "execute_result"
    }
   ],
   "source": [
    "\n",
    "table = tmu.get_name_topic_per_season_df(df)\n",
    "table"
   ],
   "metadata": {
    "collapsed": false,
    "pycharm": {
     "name": "#%%\n"
    }
   }
  },
  {
   "cell_type": "code",
   "execution_count": 8,
   "outputs": [
    {
     "name": "stdout",
     "output_type": "stream",
     "text": [
      "jon snow has 71 topical sentences in Season 1\n",
      "jon snow has 65 non-topical sentences in Season 1\n"
     ]
    },
    {
     "data": {
      "text/plain": "                                              Topic 0  \\\n0                                         Impressive.   \n1   I wish I could be here when you wake up. I'm g...   \n2                             It was always my color.   \n3                            Why do you read so much?   \n4      They hate me because I'm better than they are.   \n5                Come stand by the fire. It's warmer.   \n6                        You're not. You're freezing.   \n7              Young and gorgeous. A whore named Ros.   \n8                                                Red.   \n9                         And why is my surname Snow?   \n10                              I build my own fires.   \n11                                  There's no rider.   \n12            I just, I always wanted to be a Ranger.   \n13                               We should burn them.   \n14                                              Move.   \n15                                   Beyond the Wall?   \n16                                                354   \n\n                                             Topic 17  \\\n0                                       You did well.   \n1                                   Of course I have.   \n2           As a matter of fact, I'm the same as you.   \n3   And yet you really want to say. You want to sa...   \n4                                          l have to.   \n5                                                 NaN   \n6                                                 NaN   \n7                                                 NaN   \n8                                                 NaN   \n9                                                 NaN   \n10                                                NaN   \n11                                                NaN   \n12                                                NaN   \n13                                                NaN   \n14                                                NaN   \n15                                                NaN   \n16                                                 36   \n\n                          Topic 25  \n0         I don't care about that.  \n1     But I'm better than every...  \n2               Farewell, My Lord.  \n3                  I've had worse.  \n4   Well… You can't get any worse.  \n5             I don't care about –  \n6                              NaN  \n7                              NaN  \n8                              NaN  \n9                              NaN  \n10                             NaN  \n11                             NaN  \n12                             NaN  \n13                             NaN  \n14                             NaN  \n15                             NaN  \n16                              32  ",
      "text/html": "<div>\n<style scoped>\n    .dataframe tbody tr th:only-of-type {\n        vertical-align: middle;\n    }\n\n    .dataframe tbody tr th {\n        vertical-align: top;\n    }\n\n    .dataframe thead th {\n        text-align: right;\n    }\n</style>\n<table border=\"1\" class=\"dataframe\">\n  <thead>\n    <tr style=\"text-align: right;\">\n      <th></th>\n      <th>Topic 0</th>\n      <th>Topic 17</th>\n      <th>Topic 25</th>\n    </tr>\n  </thead>\n  <tbody>\n    <tr>\n      <th>0</th>\n      <td>Impressive.</td>\n      <td>You did well.</td>\n      <td>I don't care about that.</td>\n    </tr>\n    <tr>\n      <th>1</th>\n      <td>I wish I could be here when you wake up. I'm g...</td>\n      <td>Of course I have.</td>\n      <td>But I'm better than every...</td>\n    </tr>\n    <tr>\n      <th>2</th>\n      <td>It was always my color.</td>\n      <td>As a matter of fact, I'm the same as you.</td>\n      <td>Farewell, My Lord.</td>\n    </tr>\n    <tr>\n      <th>3</th>\n      <td>Why do you read so much?</td>\n      <td>And yet you really want to say. You want to sa...</td>\n      <td>I've had worse.</td>\n    </tr>\n    <tr>\n      <th>4</th>\n      <td>They hate me because I'm better than they are.</td>\n      <td>l have to.</td>\n      <td>Well… You can't get any worse.</td>\n    </tr>\n    <tr>\n      <th>5</th>\n      <td>Come stand by the fire. It's warmer.</td>\n      <td>NaN</td>\n      <td>I don't care about –</td>\n    </tr>\n    <tr>\n      <th>6</th>\n      <td>You're not. You're freezing.</td>\n      <td>NaN</td>\n      <td>NaN</td>\n    </tr>\n    <tr>\n      <th>7</th>\n      <td>Young and gorgeous. A whore named Ros.</td>\n      <td>NaN</td>\n      <td>NaN</td>\n    </tr>\n    <tr>\n      <th>8</th>\n      <td>Red.</td>\n      <td>NaN</td>\n      <td>NaN</td>\n    </tr>\n    <tr>\n      <th>9</th>\n      <td>And why is my surname Snow?</td>\n      <td>NaN</td>\n      <td>NaN</td>\n    </tr>\n    <tr>\n      <th>10</th>\n      <td>I build my own fires.</td>\n      <td>NaN</td>\n      <td>NaN</td>\n    </tr>\n    <tr>\n      <th>11</th>\n      <td>There's no rider.</td>\n      <td>NaN</td>\n      <td>NaN</td>\n    </tr>\n    <tr>\n      <th>12</th>\n      <td>I just, I always wanted to be a Ranger.</td>\n      <td>NaN</td>\n      <td>NaN</td>\n    </tr>\n    <tr>\n      <th>13</th>\n      <td>We should burn them.</td>\n      <td>NaN</td>\n      <td>NaN</td>\n    </tr>\n    <tr>\n      <th>14</th>\n      <td>Move.</td>\n      <td>NaN</td>\n      <td>NaN</td>\n    </tr>\n    <tr>\n      <th>15</th>\n      <td>Beyond the Wall?</td>\n      <td>NaN</td>\n      <td>NaN</td>\n    </tr>\n    <tr>\n      <th>16</th>\n      <td>354</td>\n      <td>36</td>\n      <td>32</td>\n    </tr>\n  </tbody>\n</table>\n</div>"
     },
     "execution_count": 8,
     "metadata": {},
     "output_type": "execute_result"
    }
   ],
   "source": [
    "topics = table.loc[table[\"Name\"]==\"jon snow\"].iat[0,1]\n",
    "tmu.get_sentences(df, \"jon snow\", 1, topics, 0.0)"
   ],
   "metadata": {
    "collapsed": false,
    "pycharm": {
     "name": "#%%\n"
    }
   }
  },
  {
   "cell_type": "code",
   "execution_count": 46,
   "outputs": [
    {
     "data": {
      "text/plain": "[('castle', 0.03199116404949816),\n ('wall', 0.02067531252099904),\n ('black', 0.020225587889312113),\n ('crow', 0.020148302479472052),\n ('maester', 0.017884571781092186),\n ('varys', 0.01756482722098068),\n ('horse', 0.017540555758855252),\n ('walker', 0.017292100863941298),\n ('white', 0.01660352936974415),\n ('gold', 0.015876893014578192)]"
     },
     "execution_count": 46,
     "metadata": {},
     "output_type": "execute_result"
    }
   ],
   "source": [
    "model.get_topic(0)"
   ],
   "metadata": {
    "collapsed": false,
    "pycharm": {
     "name": "#%%\n"
    }
   }
  },
  {
   "cell_type": "code",
   "execution_count": 73,
   "metadata": {
    "pycharm": {
     "name": "#%%\n"
    }
   },
   "outputs": [
    {
     "data": {
      "text/plain": [
       "[('arya', 0.20961832463736654),\n",
       " ('sansa', 0.17431548733062804),\n",
       " ('bran', 0.17302276395750898),\n",
       " ('hodor', 0.14088759609165113),\n",
       " ('brienne', 0.12170774331269492),\n",
       " ('podrick', 0.07699263481130059),\n",
       " ('rickon', 0.07455501654665883),\n",
       " ('tarth', 0.056693157876224066),\n",
       " ('stark', 0.04139611685240563),\n",
       " ('moment', 0.031033387305638156)]"
      ]
     },
     "execution_count": 73,
     "metadata": {},
     "output_type": "execute_result"
    }
   ],
   "source": [
    "model.get_topic(8)"
   ]
  },
  {
   "cell_type": "code",
   "execution_count": 74,
   "metadata": {
    "pycharm": {
     "name": "#%%\n"
    }
   },
   "outputs": [
    {
     "data": {
      "text/plain": [
       "[('mean', 0.18438820825806804),\n",
       " ('end', 0.18426945974288678),\n",
       " ('name', 0.17531381116540723),\n",
       " ('storm', 0.13431014937926128),\n",
       " ('mine', 0.0977041961272622),\n",
       " ('secret', 0.09652283295982952),\n",
       " ('known', 0.09633502800683567),\n",
       " ('knew', 0.0710264582369581),\n",
       " ('unname', 0.05306598160686024),\n",
       " ('timid', 0.04447748160583299)]"
      ]
     },
     "execution_count": 74,
     "metadata": {},
     "output_type": "execute_result"
    }
   ],
   "source": [
    "model.get_topic(9)"
   ]
  },
  {
   "cell_type": "code",
   "execution_count": null,
   "metadata": {
    "pycharm": {
     "name": "#%%\n"
    }
   },
   "outputs": [],
   "source": []
  }
 ],
 "metadata": {
  "kernelspec": {
   "display_name": "Python 3",
   "language": "python",
   "name": "python3"
  },
  "language_info": {
   "codemirror_mode": {
    "name": "ipython",
    "version": 3
   },
   "file_extension": ".py",
   "mimetype": "text/x-python",
   "name": "python",
   "nbconvert_exporter": "python",
   "pygments_lexer": "ipython3",
   "version": "3.8.8"
  }
 },
 "nbformat": 4,
 "nbformat_minor": 1
}